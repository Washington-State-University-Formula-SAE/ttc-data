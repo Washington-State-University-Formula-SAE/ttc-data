{
 "cells": [
  {
   "cell_type": "markdown",
   "metadata": {},
   "source": [
    "This code iteratively solves for the correct ride and roll rate using the method described in section 16 of RCVD"
   ]
  },
  {
   "cell_type": "code",
   "execution_count": null,
   "metadata": {},
   "outputs": [
    {
     "name": "stdout",
     "output_type": "stream",
     "text": [
      "The front ride rate is 179.20436044453913 lb/in, the rear ride rate is 261.38387484957843 lb/in\n",
      "the front wheel travel at 1.2 G's is 0.5999999999999998 in, and the rear wheel travel is 0.6 in\n",
      "The front natural frequency is 3.03936659717943 Hz, the rear natural frequency is 3.7224486521744065 Hz\n"
     ]
    }
   ],
   "source": [
    "import numpy as np\n",
    "\n",
    "# Variables\n",
    "\n",
    "W_T = 569 + 180 # lbs, car + driver\n",
    "W_bias = 0.507\n",
    "W_f = W_bias*W_T # lbs, weight over front wheels\n",
    "W_r = (1-W_bias)*W_T# lbs, weight over rear wheels\n",
    "W_1 = W_f/2 #lbs, front left\n",
    "W_2 = W_f/2 #lbs, front right\n",
    "W_3 = W_r/2 #lbs, rear left\n",
    "W_4 = W_r/2 #lbs, rear right\n",
    "\n",
    "t_f = 51 #in, front track width\n",
    "t_r = 51 #in, rear track width\n",
    "l = 60 #in, wheelbase\n",
    "a = (1-W_bias)*l\n",
    "b = W_bias*l\n",
    "h = 15 #in, CG height\n",
    "H = 12.507 #in, CG to roll axis\n",
    "\n",
    "z_rf = 2 #in, front roll axis height\n",
    "z_rr = 3 #in, rear roll axis height\n",
    "\n",
    "A_y = 1.2 #G, cornering acceleration\n",
    "\n",
    "T_r = [743,737,715,683,652] #lb/in, Tire rates, camber from 0-4\n",
    "\n",
    "K_RF = 167 # lb/in, ride rates\n",
    "K_RR = 162\n",
    "\n",
    "y_f_ideal = 0.6\n",
    "y_r_ideal = 0.6\n",
    "\n",
    "y_F = 1\n",
    "y_R = 1\n",
    "\n",
    "while y_R > y_r_ideal:\n",
    "    K_rollF = 12*K_RF*t_f**2/2 # lb*ft/deg, roll rate\n",
    "    K_rollR = 12*K_RR*t_r**2/2\n",
    "    W_F = A_y*W_T/t_f*(H*K_rollF/(K_rollF+K_rollR)+b/l*z_rf)\n",
    "    W_R = A_y*W_T/t_r*(H*K_rollR/(K_rollF+K_rollR)+a/l*z_rr)\n",
    "    y_F = W_F/K_RF\n",
    "    y_R = W_R/K_RR\n",
    "    K_RF = W_F/y_f_ideal\n",
    "    K_RR = W_R/y_r_ideal\n",
    "\n",
    "freq_f = 1/(2*np.pi)*np.sqrt(K_RF*12*32.2/W_2)\n",
    "freq_r = 1/(2*np.pi)*np.sqrt(K_RR*12*32.2/W_4)\n",
    "\n",
    "print(f\"The front ride rate is {K_RF} lb/in, the rear ride rate is {K_RR} lb/in\")\n",
    "print(f\"the front wheel travel at {A_y} G's is {y_F} in, and the rear wheel travel is {y_R} in\")\n",
    "print(f\"The front natural frequency is {freq_f} Hz, the rear natural frequency is {freq_r} Hz\")\n",
    "\n",
    "\n"
   ]
  }
 ],
 "metadata": {
  "kernelspec": {
   "display_name": "Python 3",
   "language": "python",
   "name": "python3"
  },
  "language_info": {
   "codemirror_mode": {
    "name": "ipython",
    "version": 3
   },
   "file_extension": ".py",
   "mimetype": "text/x-python",
   "name": "python",
   "nbconvert_exporter": "python",
   "pygments_lexer": "ipython3",
   "version": "3.11.1"
  }
 },
 "nbformat": 4,
 "nbformat_minor": 2
}
